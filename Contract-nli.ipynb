{
 "cells": [
  {
   "cell_type": "markdown",
   "metadata": {},
   "source": [
    "# Automating Contract Review With Transformer Models"
   ]
  },
  {
   "cell_type": "markdown",
   "metadata": {},
   "source": [
    "##### Task 1: Import the Libraries"
   ]
  },
  {
   "cell_type": "code",
   "execution_count": 1,
   "metadata": {},
   "outputs": [],
   "source": [
    "import json\n",
    "import os\n",
    "import torch\n",
    "import matplotlib.pyplot as plt\n",
    "import numpy as np\n",
    "import pandas as pd\n",
    "from transformers import AutoTokenizer\n",
    "from transformers import AutoModelForSequenceClassification\n",
    "from transformers import Trainer\n",
    "from transformers import TrainingArguments\n",
    "from sklearn.metrics import accuracy_score\n",
    "from sklearn.metrics import precision_score\n",
    "from sklearn.metrics import recall_score\n",
    "from sklearn.metrics import f1_score\n"
   ]
  },
  {
   "cell_type": "markdown",
   "metadata": {},
   "source": [
    "##### Task 2: Generate Dataset Files"
   ]
  },
  {
   "cell_type": "code",
   "execution_count": 2,
   "metadata": {},
   "outputs": [],
   "source": [
    "# Write convert_json_to_csv() function.\n",
    "def convert_json_to_csv(json_dir,filename,count):\n",
    "    with open(json_dir, 'r') as f:\n",
    "        data = json.load(f)\n",
    "    text_list, hypothesis_list, labels_list = [],[],[]\n",
    "    counter = 0\n",
    "    for doc in data['documents']:\n",
    "            annotation_sets= doc.get('annotation_sets',[])\n",
    "            for annotation_s in annotation_sets:\n",
    "                annotations = annotation_s.get('annotations',[])\n",
    "                for annotation in annotations:\n",
    "                    if counter >= count:\n",
    "                        break\n",
    "                    if isinstance(annotations[annotation],dict):\n",
    "                        if 'choice' in annotations[annotation]:\n",
    "                            labels_list.append(annotations[annotation]['choice'])\n",
    "                            text_list.append(doc['text'])\n",
    "                            hypothesis_list.append(data['labels'][annotation]['hypothesis'])\n",
    "                            counter+=1\n",
    "    if len(text_list)== len(hypothesis_list) and len(hypothesis_list) ==len(labels_list):\n",
    "            df = pd.DataFrame({\n",
    "                'text': text_list,\n",
    "                'hypothesis': hypothesis_list,\n",
    "                'labels' : labels_list,\n",
    "            })\n",
    "            df.to_csv(filename,index= False)\n",
    "\n",
    "    "
   ]
  },
  {
   "cell_type": "code",
   "execution_count": 3,
   "metadata": {},
   "outputs": [],
   "source": [
    "# Call convert_json_to_csv() function for training, validation and testing.\n",
    "directory_path = '/usercode/Contract-nli Dataset/'\n",
    "train_filename = 'train_df.csv'\n",
    "val_filename = 'valid_df.csv'\n",
    "testing_filename = 'test_df.csv'\n",
    "convert_json_to_csv(directory_path+'train.json',directory_path+train_filename,count =35)\n",
    "convert_json_to_csv(directory_path+'valid.json',directory_path+val_filename, count = 10)\n",
    "convert_json_to_csv(directory_path+'test.json',directory_path+testing_filename ,count = 5)\n"
   ]
  },
  {
   "cell_type": "markdown",
   "metadata": {},
   "source": [
    "##### Task 3: Calculate Dataset Statistics"
   ]
  },
  {
   "cell_type": "code",
   "execution_count": 4,
   "metadata": {},
   "outputs": [
    {
     "data": {
      "text/html": [
       "<div>\n",
       "<style scoped>\n",
       "    .dataframe tbody tr th:only-of-type {\n",
       "        vertical-align: middle;\n",
       "    }\n",
       "\n",
       "    .dataframe tbody tr th {\n",
       "        vertical-align: top;\n",
       "    }\n",
       "\n",
       "    .dataframe thead th {\n",
       "        text-align: right;\n",
       "    }\n",
       "</style>\n",
       "<table border=\"1\" class=\"dataframe\">\n",
       "  <thead>\n",
       "    <tr style=\"text-align: right;\">\n",
       "      <th></th>\n",
       "      <th>text</th>\n",
       "      <th>hypothesis</th>\n",
       "      <th>labels</th>\n",
       "    </tr>\n",
       "  </thead>\n",
       "  <tbody>\n",
       "    <tr>\n",
       "      <th>0</th>\n",
       "      <td>OISAIR PROJECT\\nTWO-WAY CONFIDENTIALITY AND NO...</td>\n",
       "      <td>Receiving Party shall not reverse engineer any...</td>\n",
       "      <td>Entailment</td>\n",
       "    </tr>\n",
       "    <tr>\n",
       "      <th>1</th>\n",
       "      <td>OISAIR PROJECT\\nTWO-WAY CONFIDENTIALITY AND NO...</td>\n",
       "      <td>Receiving Party shall destroy or return some C...</td>\n",
       "      <td>Entailment</td>\n",
       "    </tr>\n",
       "    <tr>\n",
       "      <th>2</th>\n",
       "      <td>OISAIR PROJECT\\nTWO-WAY CONFIDENTIALITY AND NO...</td>\n",
       "      <td>Agreement shall not grant Receiving Party any ...</td>\n",
       "      <td>Entailment</td>\n",
       "    </tr>\n",
       "    <tr>\n",
       "      <th>3</th>\n",
       "      <td>OISAIR PROJECT\\nTWO-WAY CONFIDENTIALITY AND NO...</td>\n",
       "      <td>Receiving Party shall not disclose the fact th...</td>\n",
       "      <td>Entailment</td>\n",
       "    </tr>\n",
       "    <tr>\n",
       "      <th>4</th>\n",
       "      <td>OISAIR PROJECT\\nTWO-WAY CONFIDENTIALITY AND NO...</td>\n",
       "      <td>Confidential Information shall only include te...</td>\n",
       "      <td>Contradiction</td>\n",
       "    </tr>\n",
       "  </tbody>\n",
       "</table>\n",
       "</div>"
      ],
      "text/plain": [
       "                                                text  \\\n",
       "0  OISAIR PROJECT\\nTWO-WAY CONFIDENTIALITY AND NO...   \n",
       "1  OISAIR PROJECT\\nTWO-WAY CONFIDENTIALITY AND NO...   \n",
       "2  OISAIR PROJECT\\nTWO-WAY CONFIDENTIALITY AND NO...   \n",
       "3  OISAIR PROJECT\\nTWO-WAY CONFIDENTIALITY AND NO...   \n",
       "4  OISAIR PROJECT\\nTWO-WAY CONFIDENTIALITY AND NO...   \n",
       "\n",
       "                                          hypothesis         labels  \n",
       "0  Receiving Party shall not reverse engineer any...     Entailment  \n",
       "1  Receiving Party shall destroy or return some C...     Entailment  \n",
       "2  Agreement shall not grant Receiving Party any ...     Entailment  \n",
       "3  Receiving Party shall not disclose the fact th...     Entailment  \n",
       "4  Confidential Information shall only include te...  Contradiction  "
      ]
     },
     "execution_count": 4,
     "metadata": {},
     "output_type": "execute_result"
    }
   ],
   "source": [
    "# 1. Load the dataset\n",
    "train_df = pd.read_csv(directory_path+train_filename)\n",
    "test_df = pd.read_csv(directory_path+testing_filename)\n",
    "val_df = pd.read_csv(directory_path+val_filename)\n",
    "train_df.head(\n",
    "    \n",
    ")\n",
    "test_df.head()\n",
    "val_df.head()\n"
   ]
  },
  {
   "cell_type": "code",
   "execution_count": 5,
   "metadata": {},
   "outputs": [
    {
     "data": {
      "text/html": [
       "<div>\n",
       "<style scoped>\n",
       "    .dataframe tbody tr th:only-of-type {\n",
       "        vertical-align: middle;\n",
       "    }\n",
       "\n",
       "    .dataframe tbody tr th {\n",
       "        vertical-align: top;\n",
       "    }\n",
       "\n",
       "    .dataframe thead th {\n",
       "        text-align: right;\n",
       "    }\n",
       "</style>\n",
       "<table border=\"1\" class=\"dataframe\">\n",
       "  <thead>\n",
       "    <tr style=\"text-align: right;\">\n",
       "      <th></th>\n",
       "      <th>text</th>\n",
       "      <th>hypothesis</th>\n",
       "      <th>labels</th>\n",
       "    </tr>\n",
       "  </thead>\n",
       "  <tbody>\n",
       "    <tr>\n",
       "      <th>30</th>\n",
       "      <td>NON-DISCLOSURE AGREEMENT AND TERMS OF PARTICIP...</td>\n",
       "      <td>Receiving Party shall notify Disclosing Party ...</td>\n",
       "      <td>Entailment</td>\n",
       "    </tr>\n",
       "    <tr>\n",
       "      <th>31</th>\n",
       "      <td>NON-DISCLOSURE AGREEMENT AND TERMS OF PARTICIP...</td>\n",
       "      <td>Receiving Party may acquire information simila...</td>\n",
       "      <td>Entailment</td>\n",
       "    </tr>\n",
       "    <tr>\n",
       "      <th>32</th>\n",
       "      <td>NON-DISCLOSURE AGREEMENT AND TERMS OF PARTICIP...</td>\n",
       "      <td>Receiving Party may share some Confidential In...</td>\n",
       "      <td>Contradiction</td>\n",
       "    </tr>\n",
       "    <tr>\n",
       "      <th>33</th>\n",
       "      <td>NON-DISCLOSURE AGREEMENT AND TERMS OF PARTICIP...</td>\n",
       "      <td>Receiving Party shall not use any Confidential...</td>\n",
       "      <td>Entailment</td>\n",
       "    </tr>\n",
       "    <tr>\n",
       "      <th>34</th>\n",
       "      <td>Mutual Non-Disclosure and Use of Information A...</td>\n",
       "      <td>Receiving Party shall not reverse engineer any...</td>\n",
       "      <td>NotMentioned</td>\n",
       "    </tr>\n",
       "  </tbody>\n",
       "</table>\n",
       "</div>"
      ],
      "text/plain": [
       "                                                 text  \\\n",
       "30  NON-DISCLOSURE AGREEMENT AND TERMS OF PARTICIP...   \n",
       "31  NON-DISCLOSURE AGREEMENT AND TERMS OF PARTICIP...   \n",
       "32  NON-DISCLOSURE AGREEMENT AND TERMS OF PARTICIP...   \n",
       "33  NON-DISCLOSURE AGREEMENT AND TERMS OF PARTICIP...   \n",
       "34  Mutual Non-Disclosure and Use of Information A...   \n",
       "\n",
       "                                           hypothesis         labels  \n",
       "30  Receiving Party shall notify Disclosing Party ...     Entailment  \n",
       "31  Receiving Party may acquire information simila...     Entailment  \n",
       "32  Receiving Party may share some Confidential In...  Contradiction  \n",
       "33  Receiving Party shall not use any Confidential...     Entailment  \n",
       "34  Receiving Party shall not reverse engineer any...   NotMentioned  "
      ]
     },
     "execution_count": 5,
     "metadata": {},
     "output_type": "execute_result"
    }
   ],
   "source": [
    "# 2. Display the first and last 5 rows of the training dataset\n",
    "train_df.tail(5)"
   ]
  },
  {
   "cell_type": "code",
   "execution_count": 6,
   "metadata": {},
   "outputs": [
    {
     "name": "stdout",
     "output_type": "stream",
     "text": [
      "(35, 3)\n",
      "(5, 3)\n",
      "(10, 3)\n"
     ]
    }
   ],
   "source": [
    "# 3. Display the dimension of the training data\n",
    "print(train_df.shape)\n",
    "print(test_df.shape)\n",
    "print(val_df.shape)"
   ]
  },
  {
   "cell_type": "code",
   "execution_count": 7,
   "metadata": {},
   "outputs": [
    {
     "name": "stdout",
     "output_type": "stream",
     "text": [
      "<class 'pandas.core.frame.DataFrame'>\n",
      "RangeIndex: 35 entries, 0 to 34\n",
      "Data columns (total 3 columns):\n",
      " #   Column      Non-Null Count  Dtype \n",
      "---  ------      --------------  ----- \n",
      " 0   text        35 non-null     object\n",
      " 1   hypothesis  35 non-null     object\n",
      " 2   labels      35 non-null     object\n",
      "dtypes: object(3)\n",
      "memory usage: 968.0+ bytes\n"
     ]
    }
   ],
   "source": [
    "# 4. Display a summary of the training DataFrame\n",
    "train_df.info()"
   ]
  },
  {
   "cell_type": "code",
   "execution_count": 8,
   "metadata": {},
   "outputs": [
    {
     "name": "stdout",
     "output_type": "stream",
     "text": [
      "                                                     text  \\\n",
      "count                                                  35   \n",
      "unique                                                  3   \n",
      "top     NON-DISCLOSURE AND CONFIDENTIALITY AGREEMENT\\n...   \n",
      "freq                                                   17   \n",
      "\n",
      "                                               hypothesis      labels  \n",
      "count                                                  35          35  \n",
      "unique                                                 17           3  \n",
      "top     Receiving Party shall not reverse engineer any...  Entailment  \n",
      "freq                                                    3          18  \n",
      "                                                     text  \\\n",
      "count                                                  10   \n",
      "unique                                                  1   \n",
      "top     OISAIR PROJECT\\nTWO-WAY CONFIDENTIALITY AND NO...   \n",
      "freq                                                   10   \n",
      "\n",
      "                                               hypothesis      labels  \n",
      "count                                                  10          10  \n",
      "unique                                                 10           2  \n",
      "top     Receiving Party shall not reverse engineer any...  Entailment  \n",
      "freq                                                    1           9  \n",
      "                                                     text  \\\n",
      "count                                                   5   \n",
      "unique                                                  1   \n",
      "top     NON-DISCLOSURE AGREEMENT\\nRequired under JEA's...   \n",
      "freq                                                    5   \n",
      "\n",
      "                                               hypothesis        labels  \n",
      "count                                                   5             5  \n",
      "unique                                                  5             3  \n",
      "top     Receiving Party shall not reverse engineer any...  NotMentioned  \n",
      "freq                                                    1             2  \n"
     ]
    }
   ],
   "source": [
    "# 5. Print the statistical summary of the training, validation, and testing DataFrames\n",
    "print(train_df.describe(include='all'))\n",
    "print(val_df.describe(include='all'))\n",
    "print(test_df.describe(include='all'))"
   ]
  },
  {
   "cell_type": "markdown",
   "metadata": {},
   "source": [
    "##### Task 4: Create Visualization Function for Features"
   ]
  },
  {
   "cell_type": "code",
   "execution_count": 9,
   "metadata": {},
   "outputs": [],
   "source": [
    "# Write visualize_features() function\n",
    "def visualize_features(dataset,datatype,col_name,target):\n",
    "    doc_length = dataset[col_name].apply(len)\n",
    "    avg_length = doc_length.mean()\n",
    "    min_doc_length = doc_length.min()\n",
    "    max_doc_length = doc_length.max()\n",
    "    median_doc = doc_length.median()\n",
    "    print(\"Median: \", median_doc)\n",
    "    print(\"Max : \", max_doc_length)\n",
    "    print(\"Min : \", min_doc_length)\n",
    "    print(\"Average: \", avg_length)\n",
    "    plt.hist(doc_length, bins  = 50)\n",
    "    plt.title(f\"Distribution of {target} Lengths for {datatype}\")\n",
    "    plt.xlabel(f\"{target} Length (character)\")\n",
    "    plt.ylabel(\"Count\")\n",
    "    plt.show()\n"
   ]
  },
  {
   "cell_type": "code",
   "execution_count": 10,
   "metadata": {},
   "outputs": [
    {
     "name": "stdout",
     "output_type": "stream",
     "text": [
      "Median:  90.0\n",
      "Max :  162\n",
      "Min :  66\n",
      "Average:  97.6\n"
     ]
    },
    {
     "data": {
      "image/png": "[encoded data removed]",
      "text/plain": [
       "<Figure size 640x480 with 1 Axes>"
      ]
     },
     "metadata": {},
     "output_type": "display_data"
    },
    {
     "name": "stdout",
     "output_type": "stream",
     "text": [
      "Median:  84.0\n",
      "Max :  112\n",
      "Min :  66\n",
      "Average:  89.2\n"
     ]
    },
    {
     "data": {
      "image/png": "[encoded data removed]",
      "text/plain": [
       "<Figure size 640x480 with 1 Axes>"
      ]
     },
     "metadata": {},
     "output_type": "display_data"
    },
    {
     "name": "stdout",
     "output_type": "stream",
     "text": [
      "Median:  83.5\n",
      "Max :  122\n",
      "Min :  66\n",
      "Average:  87.5\n"
     ]
    },
    {
     "data": {
      "image/png": "[encoded data removed]",
      "text/plain": [
       "<Figure size 640x480 with 1 Axes>"
      ]
     },
     "metadata": {},
     "output_type": "display_data"
    }
   ],
   "source": [
    "# Call visualize_features() function for training, validation and testing\n",
    "visualize_features(train_df,'training','hypothesis','hypothesis')\n",
    "visualize_features(test_df,'test','hypothesis','hypothesis')\n",
    "visualize_features(val_df,'validation','hypothesis','hypothesis')\n",
    "\n"
   ]
  },
  {
   "cell_type": "markdown",
   "metadata": {},
   "source": [
    "##### Task 5: Create Visualizations Function for Labels"
   ]
  },
  {
   "cell_type": "code",
   "execution_count": 11,
   "metadata": {},
   "outputs": [],
   "source": [
    "# Write visualize_label() function\n",
    "def visalize_label(dataset,datatype):\n",
    "    print(f\"Visalizing labels for {datatype}\")\n",
    "    label_count = dataset['labels'].value_counts()\n",
    "    print(label_count)\n",
    "    plt.bar(label_count.index,label_count.values)\n",
    "    plt.show()"
   ]
  },
  {
   "cell_type": "code",
   "execution_count": 12,
   "metadata": {},
   "outputs": [
    {
     "name": "stdout",
     "output_type": "stream",
     "text": [
      "Visalizing labels for Training\n",
      "labels\n",
      "Entailment       18\n",
      "NotMentioned     13\n",
      "Contradiction     4\n",
      "Name: count, dtype: int64\n"
     ]
    },
    {
     "data": {
      "image/png": "[encoded data removed]",
      "text/plain": [
       "<Figure size 640x480 with 1 Axes>"
      ]
     },
     "metadata": {},
     "output_type": "display_data"
    },
    {
     "name": "stdout",
     "output_type": "stream",
     "text": [
      "Visalizing labels for Testing\n",
      "labels\n",
      "NotMentioned     2\n",
      "Entailment       2\n",
      "Contradiction    1\n",
      "Name: count, dtype: int64\n"
     ]
    },
    {
     "data": {
      "image/png": "[encoded data removed]",
      "text/plain": [
       "<Figure size 640x480 with 1 Axes>"
      ]
     },
     "metadata": {},
     "output_type": "display_data"
    },
    {
     "name": "stdout",
     "output_type": "stream",
     "text": [
      "Visalizing labels for Validation\n",
      "labels\n",
      "Entailment       9\n",
      "Contradiction    1\n",
      "Name: count, dtype: int64\n"
     ]
    },
    {
     "data": {
      "image/png": "[encoded data removed]",
      "text/plain": [
       "<Figure size 640x480 with 1 Axes>"
      ]
     },
     "metadata": {},
     "output_type": "display_data"
    }
   ],
   "source": [
    "# Call visualize_label() function for training, validation and testing.\n",
    "visalize_label(train_df,'Training')\n",
    "visalize_label(test_df,'Testing')\n",
    "visalize_label(val_df,'Validation')"
   ]
  },
  {
   "cell_type": "markdown",
   "metadata": {},
   "source": [
    "##### Task 6: Load the Tokenizer and Model"
   ]
  },
  {
   "cell_type": "code",
   "execution_count": 13,
   "metadata": {},
   "outputs": [
    {
     "data": {
      "application/vnd.jupyter.widget-view+json": {
       "model_id": "79d92aa5cd3c4fb293cfc51a865efd8c",
       "version_major": 2,
       "version_minor": 0
      },
      "text/plain": [
       "tokenizer_config.json:   0%|          | 0.00/25.0 [00:00<?, ?B/s]"
      ]
     },
     "metadata": {},
     "output_type": "display_data"
    },
    {
     "data": {
      "application/vnd.jupyter.widget-view+json": {
       "model_id": "92e49b020277464ebf7d05e5bd4e7879",
       "version_major": 2,
       "version_minor": 0
      },
      "text/plain": [
       "config.json:   0%|          | 0.00/684 [00:00<?, ?B/s]"
      ]
     },
     "metadata": {},
     "output_type": "display_data"
    },
    {
     "data": {
      "application/vnd.jupyter.widget-view+json": {
       "model_id": "bea15d583aa54cf8a76da3569e2dcf3e",
       "version_major": 2,
       "version_minor": 0
      },
      "text/plain": [
       "spiece.model:   0%|          | 0.00/760k [00:00<?, ?B/s]"
      ]
     },
     "metadata": {},
     "output_type": "display_data"
    },
    {
     "data": {
      "application/vnd.jupyter.widget-view+json": {
       "model_id": "dea315abb361483ea2023855a7800514",
       "version_major": 2,
       "version_minor": 0
      },
      "text/plain": [
       "tokenizer.json:   0%|          | 0.00/1.31M [00:00<?, ?B/s]"
      ]
     },
     "metadata": {},
     "output_type": "display_data"
    },
    {
     "data": {
      "application/vnd.jupyter.widget-view+json": {
       "model_id": "718ee7e36e07489ea94fdd436b463856",
       "version_major": 2,
       "version_minor": 0
      },
      "text/plain": [
       "model.safetensors:   0%|          | 0.00/47.4M [00:00<?, ?B/s]"
      ]
     },
     "metadata": {},
     "output_type": "display_data"
    },
    {
     "name": "stderr",
     "output_type": "stream",
     "text": [
      "Some weights of AlbertForSequenceClassification were not initialized from the model checkpoint at albert-base-v2 and are newly initialized: ['classifier.bias', 'classifier.weight']\n",
      "You should probably TRAIN this model on a down-stream task to be able to use it for predictions and inference.\n"
     ]
    }
   ],
   "source": [
    "# ALBERT tokenizer and model\n",
    "albert_model_name = \"albert-base-v2\"\n",
    "albert_tokenizer = AutoTokenizer.from_pretrained(albert_model_name)\n",
    "albert_classifier = AutoModelForSequenceClassification.from_pretrained(albert_model_name,num_labels= 3)\n",
    "\n"
   ]
  },
  {
   "cell_type": "code",
   "execution_count": 14,
   "metadata": {},
   "outputs": [
    {
     "data": {
      "application/vnd.jupyter.widget-view+json": {
       "model_id": "aa0c519de72e444282379fa3d2c1d9c9",
       "version_major": 2,
       "version_minor": 0
      },
      "text/plain": [
       "tokenizer_config.json:   0%|          | 0.00/48.0 [00:00<?, ?B/s]"
      ]
     },
     "metadata": {},
     "output_type": "display_data"
    },
    {
     "data": {
      "application/vnd.jupyter.widget-view+json": {
       "model_id": "54cd1687809440228b156370cc03b933",
       "version_major": 2,
       "version_minor": 0
      },
      "text/plain": [
       "config.json:   0%|          | 0.00/483 [00:00<?, ?B/s]"
      ]
     },
     "metadata": {},
     "output_type": "display_data"
    },
    {
     "data": {
      "application/vnd.jupyter.widget-view+json": {
       "model_id": "a412eb1f602e4c88a6d3a6705327931a",
       "version_major": 2,
       "version_minor": 0
      },
      "text/plain": [
       "vocab.txt:   0%|          | 0.00/232k [00:00<?, ?B/s]"
      ]
     },
     "metadata": {},
     "output_type": "display_data"
    },
    {
     "data": {
      "application/vnd.jupyter.widget-view+json": {
       "model_id": "386cfea3d81b47caa1c65ebd09e1b2da",
       "version_major": 2,
       "version_minor": 0
      },
      "text/plain": [
       "tokenizer.json:   0%|          | 0.00/466k [00:00<?, ?B/s]"
      ]
     },
     "metadata": {},
     "output_type": "display_data"
    },
    {
     "data": {
      "application/vnd.jupyter.widget-view+json": {
       "model_id": "9b060d300b424dfbb9dfab247342962f",
       "version_major": 2,
       "version_minor": 0
      },
      "text/plain": [
       "model.safetensors:   0%|          | 0.00/268M [00:00<?, ?B/s]"
      ]
     },
     "metadata": {},
     "output_type": "display_data"
    },
    {
     "name": "stderr",
     "output_type": "stream",
     "text": [
      "Some weights of DistilBertForSequenceClassification were not initialized from the model checkpoint at distilbert-base-uncased and are newly initialized: ['classifier.bias', 'pre_classifier.bias', 'pre_classifier.weight', 'classifier.weight']\n",
      "You should probably TRAIN this model on a down-stream task to be able to use it for predictions and inference.\n"
     ]
    }
   ],
   "source": [
    "# DistilBERT tokenizer and model\n",
    "distil_model_name = 'distilbert-base-uncased'\n",
    "distil_tokenizer = AutoTokenizer.from_pretrained(distil_model_name)\n",
    "distil_classifier = AutoModelForSequenceClassification.from_pretrained(distil_model_name,num_labels=3)\n",
    "\n"
   ]
  },
  {
   "cell_type": "markdown",
   "metadata": {},
   "source": [
    "##### Task 7: Encode the Features"
   ]
  },
  {
   "cell_type": "code",
   "execution_count": 15,
   "metadata": {},
   "outputs": [],
   "source": [
    "# Write tokenize_data() function\n",
    "def tokenize_data(dataset,tokenizer):\n",
    "    return tokenizer(text = dataset['text'].tolist(),text_pair = dataset['hypothesis'].tolist(),padding ='max_length', max_length=256,truncation=True)\n",
    "    "
   ]
  },
  {
   "cell_type": "code",
   "execution_count": 16,
   "metadata": {},
   "outputs": [],
   "source": [
    "# Call tokenize_data() function for training, validation and testing.\n",
    "## ALBERT model\n",
    "albert_train_encodings = tokenize_data(train_df,albert_tokenizer)\n",
    "albert_test_encodings = tokenize_data(test_df,albert_tokenizer)\n",
    "albert_val_encodings = tokenize_data(val_df,albert_tokenizer)\n",
    "\n",
    "\n",
    "## DistilBERT model\n",
    "distil_train_encodings = tokenize_data(train_df,distil_tokenizer)\n",
    "distil_test_encodings= tokenize_data(test_df, distil_tokenizer)\n",
    "distil_val_encodings = tokenize_data(val_df,distil_tokenizer)\n"
   ]
  },
  {
   "cell_type": "markdown",
   "metadata": {},
   "source": [
    "##### Task 8: Encode the Label"
   ]
  },
  {
   "cell_type": "code",
   "execution_count": 17,
   "metadata": {},
   "outputs": [],
   "source": [
    "label_mapping = {\n",
    "    'NotMentioned': 0,\n",
    "    'Entailment': 1,\n",
    "    'Contradiction': 2\n",
    "}\n",
    "train_labels = [label_mapping[label] for label in train_df['labels'].tolist()]\n",
    "test_labels = [label_mapping[label] for label in test_df['labels'].tolist()]\n",
    "val_labels = [label_mapping[label] for label in val_df['labels'].tolist()]\n",
    "\n"
   ]
  },
  {
   "cell_type": "markdown",
   "metadata": {},
   "source": [
    "##### Task 9: Prepare Dataset for the Model"
   ]
  },
  {
   "cell_type": "code",
   "execution_count": 18,
   "metadata": {},
   "outputs": [],
   "source": [
    "# Write ContractNLIDataset() class. \n",
    "class ContractNLIDataset(torch.utils.data.Dataset):\n",
    "    def __init__(self,encodings,labels):\n",
    "        self.encodings = encodings\n",
    "        self.labels = labels\n",
    "    def __getitem__(self,idx):\n",
    "        item = {key: torch.tensor(value[idx]) for key, value in self.encodings.items()}\n",
    "        item['labels'] = torch.tensor(int(self.labels[idx]))\n",
    "        return item\n",
    "    def __len__(self):\n",
    "        return len(self.labels)\n",
    "        \n",
    "        "
   ]
  },
  {
   "cell_type": "code",
   "execution_count": 19,
   "metadata": {},
   "outputs": [],
   "source": [
    "# Create the objects from ContractNLIDataset() class for training, validation and testing.\n",
    "## ALBERT model\n",
    "albert_train_dataset = ContractNLIDataset(albert_train_encodings, train_labels)\n",
    "albert_test_dataset = ContractNLIDataset(albert_test_encodings, test_labels)\n",
    "albert_val_dataset = ContractNLIDataset(albert_val_encodings,val_labels)\n",
    "\n",
    "## DistilBERT model\n",
    "distil_train_dataset = ContractNLIDataset(distil_train_encodings,train_labels)\n",
    "distil_test_dataset = ContractNLIDataset(distil_test_encodings,test_labels)\n",
    "distil_val_dataset = ContractNLIDataset(distil_val_encodings,val_labels)\n",
    "\n"
   ]
  },
  {
   "cell_type": "markdown",
   "metadata": {},
   "source": [
    "##### Task 10: Fine-Tune the Selected Models"
   ]
  },
  {
   "cell_type": "code",
   "execution_count": 20,
   "metadata": {},
   "outputs": [],
   "source": [
    "# Write compute_metrics() function. \n",
    "def compute_metrics(p):\n",
    "    predictions = np.argmax(p.predictions,axis=1)\n",
    "    labels = p.label_ids\n",
    "    accuracy = accuracy_score(labels,predictions)\n",
    "    precision = precision_score(labels, predictions, average= \"macro\")\n",
    "    recall = recall_score(labels, predictions,average  = \"macro\")\n",
    "    f1 = f1_score(labels, predictions ,average= 'macro')\n",
    "    return {\n",
    "        'accuracy': accuracy,\n",
    "        'precision' : precision,\n",
    "        'recall ' : recall,\n",
    "        'f1': f1\n",
    "    }\n",
    "    "
   ]
  },
  {
   "cell_type": "code",
   "execution_count": 21,
   "metadata": {},
   "outputs": [],
   "source": [
    "# configure the training setting\n",
    "training_args = TrainingArguments(output_dir=directory_path+'results', num_train_epochs=3,weight_decay=0.01,logging_steps=1,evaluation_strategy=\"epoch\")"
   ]
  },
  {
   "cell_type": "code",
   "execution_count": 22,
   "metadata": {},
   "outputs": [],
   "source": [
    "# Write train_fn() function\n",
    "def train_fn(model,train_dataset,eval_dataset,tokenizer):\n",
    "    trainer = Trainer(\n",
    "\n",
    "        model = model,\n",
    "        args = training_args,\n",
    "        train_dataset = train_dataset,\n",
    "        eval_dataset = eval_dataset,\n",
    "        tokenizer = tokenizer,\n",
    "        compute_metrics = compute_metrics,\n",
    "    )\n",
    "    trainer.train()\n",
    "    return trainer"
   ]
  },
  {
   "cell_type": "code",
   "execution_count": 23,
   "metadata": {},
   "outputs": [
    {
     "name": "stderr",
     "output_type": "stream",
     "text": [
      "You're using a AlbertTokenizerFast tokenizer. Please note that with a fast tokenizer, using the `__call__` method is faster than using a method to encode the text followed by a call to the `pad` method to get a padded encoding.\n"
     ]
    },
    {
     "data": {
      "text/html": [
       "\n",
       "    <div>\n",
       "      \n",
       "      <progress value='15' max='15' style='width:300px; height:20px; vertical-align: middle;'></progress>\n",
       "      [15/15 03:57, Epoch 3/3]\n",
       "    </div>\n",
       "    <table border=\"1\" class=\"dataframe\">\n",
       "  <thead>\n",
       " <tr style=\"text-align: left;\">\n",
       "      <th>Epoch</th>\n",
       "      <th>Training Loss</th>\n",
       "      <th>Validation Loss</th>\n",
       "      <th>Accuracy</th>\n",
       "      <th>Precision</th>\n",
       "      <th>Recall </th>\n",
       "      <th>F1</th>\n",
       "    </tr>\n",
       "  </thead>\n",
       "  <tbody>\n",
       "    <tr>\n",
       "      <td>1</td>\n",
       "      <td>1.088900</td>\n",
       "      <td>0.616070</td>\n",
       "      <td>0.900000</td>\n",
       "      <td>0.450000</td>\n",
       "      <td>0.500000</td>\n",
       "      <td>0.473684</td>\n",
       "    </tr>\n",
       "    <tr>\n",
       "      <td>2</td>\n",
       "      <td>1.043700</td>\n",
       "      <td>0.774894</td>\n",
       "      <td>0.900000</td>\n",
       "      <td>0.450000</td>\n",
       "      <td>0.500000</td>\n",
       "      <td>0.473684</td>\n",
       "    </tr>\n",
       "    <tr>\n",
       "      <td>3</td>\n",
       "      <td>0.932800</td>\n",
       "      <td>0.723502</td>\n",
       "      <td>0.900000</td>\n",
       "      <td>0.450000</td>\n",
       "      <td>0.500000</td>\n",
       "      <td>0.473684</td>\n",
       "    </tr>\n",
       "  </tbody>\n",
       "</table><p>"
      ],
      "text/plain": [
       "<IPython.core.display.HTML object>"
      ]
     },
     "metadata": {},
     "output_type": "display_data"
    },
    {
     "name": "stderr",
     "output_type": "stream",
     "text": [
      "/usr/local/lib/python3.8/dist-packages/sklearn/metrics/_classification.py:1471: UndefinedMetricWarning: Precision is ill-defined and being set to 0.0 in labels with no predicted samples. Use `zero_division` parameter to control this behavior.\n",
      "  _warn_prf(average, modifier, msg_start, len(result))\n",
      "/usr/local/lib/python3.8/dist-packages/sklearn/metrics/_classification.py:1471: UndefinedMetricWarning: Precision is ill-defined and being set to 0.0 in labels with no predicted samples. Use `zero_division` parameter to control this behavior.\n",
      "  _warn_prf(average, modifier, msg_start, len(result))\n",
      "/usr/local/lib/python3.8/dist-packages/sklearn/metrics/_classification.py:1471: UndefinedMetricWarning: Precision is ill-defined and being set to 0.0 in labels with no predicted samples. Use `zero_division` parameter to control this behavior.\n",
      "  _warn_prf(average, modifier, msg_start, len(result))\n",
      "You're using a DistilBertTokenizerFast tokenizer. Please note that with a fast tokenizer, using the `__call__` method is faster than using a method to encode the text followed by a call to the `pad` method to get a padded encoding.\n"
     ]
    },
    {
     "data": {
      "text/html": [
       "\n",
       "    <div>\n",
       "      \n",
       "      <progress value='15' max='15' style='width:300px; height:20px; vertical-align: middle;'></progress>\n",
       "      [15/15 01:57, Epoch 3/3]\n",
       "    </div>\n",
       "    <table border=\"1\" class=\"dataframe\">\n",
       "  <thead>\n",
       " <tr style=\"text-align: left;\">\n",
       "      <th>Epoch</th>\n",
       "      <th>Training Loss</th>\n",
       "      <th>Validation Loss</th>\n",
       "      <th>Accuracy</th>\n",
       "      <th>Precision</th>\n",
       "      <th>Recall </th>\n",
       "      <th>F1</th>\n",
       "    </tr>\n",
       "  </thead>\n",
       "  <tbody>\n",
       "    <tr>\n",
       "      <td>1</td>\n",
       "      <td>0.961100</td>\n",
       "      <td>0.921400</td>\n",
       "      <td>0.900000</td>\n",
       "      <td>0.450000</td>\n",
       "      <td>0.500000</td>\n",
       "      <td>0.473684</td>\n",
       "    </tr>\n",
       "    <tr>\n",
       "      <td>2</td>\n",
       "      <td>0.925800</td>\n",
       "      <td>0.798639</td>\n",
       "      <td>0.900000</td>\n",
       "      <td>0.450000</td>\n",
       "      <td>0.500000</td>\n",
       "      <td>0.473684</td>\n",
       "    </tr>\n",
       "    <tr>\n",
       "      <td>3</td>\n",
       "      <td>0.871000</td>\n",
       "      <td>0.775473</td>\n",
       "      <td>0.900000</td>\n",
       "      <td>0.450000</td>\n",
       "      <td>0.500000</td>\n",
       "      <td>0.473684</td>\n",
       "    </tr>\n",
       "  </tbody>\n",
       "</table><p>"
      ],
      "text/plain": [
       "<IPython.core.display.HTML object>"
      ]
     },
     "metadata": {},
     "output_type": "display_data"
    },
    {
     "name": "stderr",
     "output_type": "stream",
     "text": [
      "/usr/local/lib/python3.8/dist-packages/sklearn/metrics/_classification.py:1471: UndefinedMetricWarning: Precision is ill-defined and being set to 0.0 in labels with no predicted samples. Use `zero_division` parameter to control this behavior.\n",
      "  _warn_prf(average, modifier, msg_start, len(result))\n",
      "/usr/local/lib/python3.8/dist-packages/sklearn/metrics/_classification.py:1471: UndefinedMetricWarning: Precision is ill-defined and being set to 0.0 in labels with no predicted samples. Use `zero_division` parameter to control this behavior.\n",
      "  _warn_prf(average, modifier, msg_start, len(result))\n",
      "/usr/local/lib/python3.8/dist-packages/sklearn/metrics/_classification.py:1471: UndefinedMetricWarning: Precision is ill-defined and being set to 0.0 in labels with no predicted samples. Use `zero_division` parameter to control this behavior.\n",
      "  _warn_prf(average, modifier, msg_start, len(result))\n"
     ]
    }
   ],
   "source": [
    "# Call train_fn() function\n",
    "## ALBERT model\n",
    "alberttrainer = train_fn(albert_classifier,albert_train_dataset,albert_val_dataset,albert_tokenizer)\n",
    "\n",
    "## DistilBERT model\n",
    "distiltrainer = train_fn(distil_classifier,distil_train_dataset,distil_val_dataset,distil_tokenizer)\n"
   ]
  },
  {
   "cell_type": "markdown",
   "metadata": {},
   "source": [
    "##### Task 11: Test the Selected Models"
   ]
  },
  {
   "cell_type": "code",
   "execution_count": 24,
   "metadata": {},
   "outputs": [],
   "source": [
    "# Write predict_and_save_results() function\n",
    "def predict_and_save_results(trainer,model,model_name,test_dataset):\n",
    "    prediction_output = trainer.predict(test_dataset)\n",
    "    test_df[f'pred_output_{model_name}'] = np.argmax(prediction_output[0],axis = 1)\n",
    "\n",
    "    "
   ]
  },
  {
   "cell_type": "code",
   "execution_count": 25,
   "metadata": {},
   "outputs": [
    {
     "data": {
      "text/html": [],
      "text/plain": [
       "<IPython.core.display.HTML object>"
      ]
     },
     "metadata": {},
     "output_type": "display_data"
    },
    {
     "name": "stderr",
     "output_type": "stream",
     "text": [
      "/usr/local/lib/python3.8/dist-packages/sklearn/metrics/_classification.py:1471: UndefinedMetricWarning: Precision is ill-defined and being set to 0.0 in labels with no predicted samples. Use `zero_division` parameter to control this behavior.\n",
      "  _warn_prf(average, modifier, msg_start, len(result))\n"
     ]
    },
    {
     "data": {
      "text/html": [],
      "text/plain": [
       "<IPython.core.display.HTML object>"
      ]
     },
     "metadata": {},
     "output_type": "display_data"
    },
    {
     "name": "stderr",
     "output_type": "stream",
     "text": [
      "/usr/local/lib/python3.8/dist-packages/sklearn/metrics/_classification.py:1471: UndefinedMetricWarning: Precision is ill-defined and being set to 0.0 in labels with no predicted samples. Use `zero_division` parameter to control this behavior.\n",
      "  _warn_prf(average, modifier, msg_start, len(result))\n"
     ]
    }
   ],
   "source": [
    "# Call predict_and_save_results() function.\n",
    "## ALBERT model\n",
    "predict_and_save_results(alberttrainer,albert_classifier,albert_model_name,albert_test_dataset)\n",
    "## DistilBERT model\n",
    "predict_and_save_results(distiltrainer,distil_classifier,distil_model_name,distil_test_dataset)"
   ]
  },
  {
   "cell_type": "code",
   "execution_count": 26,
   "metadata": {},
   "outputs": [
    {
     "name": "stdout",
     "output_type": "stream",
     "text": [
      "0    False\n",
      "1     True\n",
      "2     True\n",
      "3    False\n",
      "4    False\n",
      "Name: pred_output_albert-base-v2, dtype: bool\n",
      "0    False\n",
      "1     True\n",
      "2     True\n",
      "3    False\n",
      "4    False\n",
      "Name: pred_output_distilbert-base-uncased, dtype: bool\n"
     ]
    }
   ],
   "source": [
    "albert_col_name = 'pred_output_' + albert_model_name\n",
    "distilbet_col_name = 'pred_output_' + distil_model_name\n",
    "print(test_df[albert_col_name] == test_labels)\n",
    "print(test_df[distilbet_col_name] == test_labels)"
   ]
  },
  {
   "cell_type": "markdown",
   "metadata": {},
   "source": [
    "##### Task 12: Identify Incorrect Predictions"
   ]
  },
  {
   "cell_type": "code",
   "execution_count": 27,
   "metadata": {},
   "outputs": [],
   "source": [
    "## ALBERT model\n",
    "albert_wrong = test_df[test_df[albert_col_name]!= test_labels].iloc[:,:3]\n",
    "\n",
    "## DistilBERT model\n",
    "distilbert_wrong= test_df[test_df[distilbet_col_name]!= test_labels].iloc[:,:3]\n"
   ]
  },
  {
   "cell_type": "markdown",
   "metadata": {},
   "source": [
    "##### Task 13: Categorize the Errors"
   ]
  },
  {
   "cell_type": "code",
   "execution_count": 28,
   "metadata": {},
   "outputs": [],
   "source": [
    "## ALBERT model\n",
    "\n",
    "## DistilBERT model\n"
   ]
  },
  {
   "cell_type": "markdown",
   "metadata": {},
   "source": [
    "##### Task 14: Visualize Error Categories"
   ]
  },
  {
   "cell_type": "code",
   "execution_count": 33,
   "metadata": {},
   "outputs": [
    {
     "name": "stdout",
     "output_type": "stream",
     "text": [
      "Visalizing labels for testing\n",
      "labels\n",
      "NotMentioned     2\n",
      "Contradiction    1\n",
      "Name: count, dtype: int64\n"
     ]
    },
    {
     "data": {
      "image/png": "[encoded data removed]",
      "text/plain": [
       "<Figure size 640x480 with 1 Axes>"
      ]
     },
     "metadata": {},
     "output_type": "display_data"
    },
    {
     "name": "stdout",
     "output_type": "stream",
     "text": [
      "Median:  16632.0\n",
      "Max :  16632\n",
      "Min :  16632\n",
      "Average:  16632.0\n"
     ]
    },
    {
     "data": {
      "image/png": "[encoded data removed]",
      "text/plain": [
       "<Figure size 640x480 with 1 Axes>"
      ]
     },
     "metadata": {},
     "output_type": "display_data"
    },
    {
     "name": "stdout",
     "output_type": "stream",
     "text": [
      "Median:  84.0\n",
      "Max :  112\n",
      "Min :  66\n",
      "Average:  87.33333333333333\n"
     ]
    },
    {
     "data": {
      "image/png": "[encoded data removed]",
      "text/plain": [
       "<Figure size 640x480 with 1 Axes>"
      ]
     },
     "metadata": {},
     "output_type": "display_data"
    }
   ],
   "source": [
    "## ALBERT model\n",
    "visalize_label(albert_wrong,'testing')\n",
    "visualize_features(albert_wrong,'testing', 'text','text')\n",
    "visualize_features(albert_wrong,'testing', 'hypothesis','hypothesis')\n",
    "\n",
    "\n"
   ]
  },
  {
   "cell_type": "code",
   "execution_count": 32,
   "metadata": {},
   "outputs": [
    {
     "name": "stdout",
     "output_type": "stream",
     "text": [
      "Median:  16632.0\n",
      "Max :  16632\n",
      "Min :  16632\n",
      "Average:  16632.0\n"
     ]
    },
    {
     "data": {
      "image/png": "[encoded data removed]",
      "text/plain": [
       "<Figure size 640x480 with 1 Axes>"
      ]
     },
     "metadata": {},
     "output_type": "display_data"
    },
    {
     "name": "stdout",
     "output_type": "stream",
     "text": [
      "Visalizing labels for testing\n",
      "labels\n",
      "NotMentioned     2\n",
      "Contradiction    1\n",
      "Name: count, dtype: int64\n"
     ]
    },
    {
     "data": {
      "image/png": "[encoded data removed]",
      "text/plain": [
       "<Figure size 640x480 with 1 Axes>"
      ]
     },
     "metadata": {},
     "output_type": "display_data"
    },
    {
     "name": "stdout",
     "output_type": "stream",
     "text": [
      "Median:  84.0\n",
      "Max :  112\n",
      "Min :  66\n",
      "Average:  87.33333333333333\n"
     ]
    },
    {
     "data": {
      "image/png": "[encoded data removed]",
      "text/plain": [
       "<Figure size 640x480 with 1 Axes>"
      ]
     },
     "metadata": {},
     "output_type": "display_data"
    }
   ],
   "source": [
    "## DistilBERT model\n",
    "visualize_features(distilbert_wrong,'testing','text','text')\n",
    "visalize_label(distilbert_wrong,'testing')\n",
    "visualize_features(distilbert_wrong,'testing','hypothesis','hypothesis')"
   ]
  }
 ],
 "metadata": {
  "kernelspec": {
   "display_name": "Python 3",
   "language": "python",
   "name": "python3"
  },
  "language_info": {
   "codemirror_mode": {
    "name": "ipython",
    "version": 3
   },
   "file_extension": ".py",
   "mimetype": "text/x-python",
   "name": "python",
   "nbconvert_exporter": "python",
   "pygments_lexer": "ipython3",
   "version": "3.8.10"
  },
  "orig_nbformat": 4,
  "vscode": {
   "interpreter": {
    "hash": "e7370f93d1d0cde622a1f8e1c04877d8463912d04d973331ad4851f04de6915a"
   }
  }
 },
 "nbformat": 4,
 "nbformat_minor": 2
}
